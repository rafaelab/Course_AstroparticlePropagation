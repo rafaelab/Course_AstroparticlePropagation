{
 "cells": [
  {
   "cell_type": "markdown",
   "metadata": {},
   "source": [
    "## Multidimensional sampling "
   ]
  },
  {
   "cell_type": "markdown",
   "metadata": {},
   "source": [
    "This example is an adaptation of an emcee tutorial: https://emcee.readthedocs.io/en/stable/tutorials/quickstart/."
   ]
  },
  {
   "cell_type": "code",
   "execution_count": 7,
   "metadata": {},
   "outputs": [],
   "source": [
    "import numpy as np\n",
    "import matplotlib.pyplot as plt\n",
    "\n",
    "import emcee"
   ]
  },
  {
   "cell_type": "markdown",
   "metadata": {},
   "source": [
    "We first need to define the probability distribution function. We use a gaussian in this example:\n",
    "\n",
    "$$ p(\\vec{x}) \\propto \\exp\\left( -\\dfrac{1}{2}(\\vec{x} - \\vec{\\mu})^T \\sigma^{-1}(\\vec{x} - \\vec{\\mu})  \\right), $$\n",
    "\n",
    "wherein the arrow indicates a vector whose components are directly associated to each dimension, $\\vec{\\mu}$ is the mean, and $\\sigma$ denotes the covariance matrix.\n",
    "\n",
    "It is often convenient to use the logarithm of the function. In emcee, in particular, this is required."
   ]
  },
  {
   "cell_type": "code",
   "execution_count": 9,
   "metadata": {},
   "outputs": [],
   "source": [
    "def lnProb(x, mu, icov):\n",
    "    diff = x - mu\n",
    "    return -np.dot(diff, np.dot(icov, diff)) / 2."
   ]
  },
  {
   "cell_type": "code",
   "execution_count": 10,
   "metadata": {},
   "outputs": [],
   "source": [
    "ndim = 4 # number of dimensions\n",
    "means = np.random.rand(ndim)"
   ]
  },
  {
   "cell_type": "code",
   "execution_count": 11,
   "metadata": {},
   "outputs": [],
   "source": [
    "# setup ndim parameters \n",
    "cov = 0.5 - np.random.rand(ndim ** 2).reshape((ndim, ndim))\n",
    "cov = np.triu(cov)\n",
    "cov += cov.T - np.diag(cov.diagonal())\n",
    "cov = np.dot(cov, cov)\n",
    "icov = np.linalg.inv(cov)"
   ]
  },
  {
   "cell_type": "markdown",
   "metadata": {},
   "source": [
    "There are two relevant quantities: the number of walkers is associated to the size of the sample, whereas the number of iterations relates to the number of steps we assume (obviously the algorithm should converge before the maximum number of iterations is reached)."
   ]
  },
  {
   "cell_type": "code",
   "execution_count": 13,
   "metadata": {},
   "outputs": [],
   "source": [
    "# Choosing number of walkers (nwalkers)\n",
    "# The initial guess is a nwalkers x ndim array \n",
    "nwalkers = 100\n",
    "p0 = np.random.rand(ndim * nwalkers).reshape((nwalkers, ndim))\n",
    "sampler = emcee.EnsembleSampler(nwalkers, ndim, lnProb, args = [means, icov])"
   ]
  },
  {
   "cell_type": "markdown",
   "metadata": {},
   "source": [
    "It is often advisable to let the walkers move a little bit in the parameter space, to guarantee that when we execute the code \"for good\", their starting positions are near regions with high probability density."
   ]
  },
  {
   "cell_type": "code",
   "execution_count": 14,
   "metadata": {},
   "outputs": [],
   "source": [
    "nburn = 100\n",
    "pos, prob, state = sampler.run_mcmc(p0, nburn)\n",
    "sampler.reset()"
   ]
  },
  {
   "cell_type": "markdown",
   "metadata": {},
   "source": [
    "Now we do the MCMC for real:"
   ]
  },
  {
   "cell_type": "code",
   "execution_count": 15,
   "metadata": {},
   "outputs": [
    {
     "data": {
      "text/plain": [
       "State([[ 0.82765993 -0.39707256 -0.15463297 -0.50992233]\n",
       " [ 0.74889364 -0.34500423  0.01184295 -0.36058028]\n",
       " [ 0.66403345 -0.37054806  0.66355485 -0.36812437]\n",
       " [ 0.82650474 -0.53088413  0.41474549 -0.27524297]\n",
       " [ 0.07450189  0.79820986 -1.32746076 -0.48382792]\n",
       " [-0.05950578  0.40504677  0.48750191  0.64248457]\n",
       " [-0.17197505  0.87373549 -0.80653197  0.25749815]\n",
       " [ 0.56831892 -0.67658641  1.97113158  0.63019028]\n",
       " [ 0.33982323  0.13442466 -0.37161898  0.23205092]\n",
       " [ 1.40043242 -1.17860462  1.00773854 -1.66022139]\n",
       " [ 0.05132916  0.69957463 -1.14720881  0.02451194]\n",
       " [ 0.5076996  -0.19128937  0.66629527 -0.21663784]\n",
       " [ 0.43568959 -0.07329376  0.65462827 -0.44717924]\n",
       " [ 0.02886731  0.06635138  1.46207792  1.11414294]\n",
       " [-0.19136318  0.50991228  0.62129548  0.83294696]\n",
       " [ 0.38968344  0.05821463 -0.3417968   0.36005455]\n",
       " [ 0.85183488 -0.45190148  0.04023413 -0.39352607]\n",
       " [ 0.31556114  0.09998436  0.20549583  0.09438939]\n",
       " [ 1.12031105 -0.5875084  -0.6124782  -1.07398487]\n",
       " [ 0.85241675 -0.2430655  -0.36032205 -1.34204275]\n",
       " [ 0.96678071 -0.69279203  0.44946796 -0.29959456]\n",
       " [ 0.02486515  0.34036626  0.68012246  0.32906765]\n",
       " [-0.40042698  0.71273797  0.72073379  1.21913539]\n",
       " [-0.4377482   0.73568573  0.5494373   1.61351078]\n",
       " [ 0.33848872  0.29081464 -0.67094152 -0.17488584]\n",
       " [ 0.04215492  0.31467231  0.89777165  0.08214875]\n",
       " [ 0.09847844  0.59442722 -0.94934568 -0.00357636]\n",
       " [ 0.79708924 -0.60275881  0.83625152 -0.21708005]\n",
       " [ 0.12242655  0.29117071  0.18962605  0.54293918]\n",
       " [-0.46300389  1.16504989 -0.59700547  0.49260355]\n",
       " [ 0.04696791  0.44538648 -0.40980264  0.87870717]\n",
       " [-0.80706414  1.2812294   0.41966135  1.30373853]\n",
       " [ 0.28739096  0.38705544 -0.86218674 -0.28499128]\n",
       " [-0.21045001  0.53330228  0.45222443  1.12060681]\n",
       " [ 0.36869537 -0.01517624  0.37390139  0.14480411]\n",
       " [ 0.47806071 -0.28348896  0.98215141  0.22701226]\n",
       " [ 0.43455845 -0.07986243  0.6608853  -0.37116614]\n",
       " [ 0.1657987   0.02964974  1.57219117  0.03587426]\n",
       " [ 0.27583978  0.32067656 -0.75661032  0.14543231]\n",
       " [ 0.01654572  0.39412378 -0.39122898  1.33994751]\n",
       " [-0.33893515  0.89840163 -0.24809019  0.79819277]\n",
       " [-0.02088818  0.60661883 -0.52067997  0.43380899]\n",
       " [-0.65642943  1.79803921 -2.55798921  0.52938877]\n",
       " [ 0.37736887  0.17656386 -0.37386712 -0.13374132]\n",
       " [ 0.21477141  0.29335062 -0.26566314  0.24786154]\n",
       " [ 0.77377713 -0.39624031 -0.21105233  0.04085297]\n",
       " [ 0.02448562  0.58882432 -0.35695387  0.07159081]\n",
       " [-0.62510759  1.39775281 -1.05900425  0.78431125]\n",
       " [ 0.58193181 -0.38715995  1.15470829 -0.17859291]\n",
       " [ 1.66434562 -1.37781358 -0.09162867 -0.98928671]\n",
       " [ 0.28447809  0.22707004 -0.33532337  0.13159927]\n",
       " [ 0.51708918 -0.02226111 -0.39810523 -0.21382435]\n",
       " [ 0.3121008  -0.06490811  0.79106623  0.35310363]\n",
       " [ 0.55955916 -0.14410291  0.03266091 -0.27115746]\n",
       " [-0.0574233   0.52031729  0.020702    0.45728972]\n",
       " [ 0.22837904  0.01561556  0.95020368  0.25601751]\n",
       " [ 0.5753233  -0.04533894 -0.52817967 -0.22199028]\n",
       " [-0.09567281  0.52969997  0.07620089  0.78134844]\n",
       " [ 1.08389499 -0.61545254 -0.33901168 -0.86865338]\n",
       " [ 0.62085168 -0.24879438  0.50268169 -0.48784248]\n",
       " [ 0.80978072 -0.4212989  -0.01057065 -0.22428057]\n",
       " [ 1.23924915 -1.15617296  1.61768566 -0.95327215]\n",
       " [ 0.33170012  0.02662049  0.59072268  0.01653504]\n",
       " [ 0.52390565  0.27725616 -1.33464484 -0.94416487]\n",
       " [ 0.7298486  -0.41477898  0.23339552 -0.14192804]\n",
       " [-0.31038136  0.83673202 -0.07380244  0.79805573]\n",
       " [ 0.33543296 -0.05397031  1.04820369 -0.0505628 ]\n",
       " [-0.07484128  0.67650717 -0.54875466  0.49373484]\n",
       " [ 0.17330712  0.48851127 -1.1197355   0.38265213]\n",
       " [-0.77392473  1.31941344 -0.02622265  1.43708035]\n",
       " [ 0.82867597 -0.02335773 -1.50032938 -1.1312271 ]\n",
       " [-0.18705889  0.64138885  0.25983177  0.67449426]\n",
       " [-0.03497813  0.23310217  0.95419062  1.03793337]\n",
       " [-0.20885524  0.61453107  0.40176981  0.62934183]\n",
       " [ 0.06635855  0.50891291 -0.43792336  0.35133149]\n",
       " [ 0.26842692 -0.10018811  1.34909403  0.17182456]\n",
       " [ 0.15419405  0.53177983 -1.05309556  0.15529804]\n",
       " [ 0.75926143 -0.23293625 -0.44619402 -0.41839614]\n",
       " [ 0.29982076  0.39547508 -1.03358997  0.00691144]\n",
       " [-0.25280429  0.5391078   0.8667373   1.03551809]\n",
       " [-0.43584968  0.82980932  0.67429784  0.84059935]\n",
       " [ 0.57566962 -0.21046929  0.76405388 -0.81059047]\n",
       " [-0.29583752  0.7471795   0.63796597  0.39335088]\n",
       " [ 0.40136614  0.00275579  0.04970371  0.26198333]\n",
       " [ 0.58013846 -0.00522921 -0.52235624 -0.45175221]\n",
       " [ 0.09726616  0.31173132  0.07653832  0.54299852]\n",
       " [ 0.02163051  0.6282646  -0.8842765   0.38300041]\n",
       " [-0.12689323  0.51482387  0.38119631  0.68697942]\n",
       " [ 0.7059815  -0.32997956  0.18683038 -0.29712557]\n",
       " [ 0.97674073 -0.85488166  1.49920367 -0.65823565]\n",
       " [ 0.06062962  0.14943343  0.96273332  0.74468261]\n",
       " [ 0.698907   -0.63762301  1.70791574 -0.13191165]\n",
       " [-0.06874387  0.61460123 -0.15329906  0.47490148]\n",
       " [ 0.0509832   0.44002198 -0.11375124  0.31382522]\n",
       " [-0.26211483  0.98150058 -0.88313755  0.29465061]\n",
       " [ 0.02491633  0.63835049 -1.15970286  0.69576448]\n",
       " [ 0.48685996  0.25030547 -0.88803969 -0.73488628]\n",
       " [-0.71712852  1.33840739  0.23689874  0.39899565]\n",
       " [ 0.06078785  0.39739375 -0.38636758  0.92728576]\n",
       " [-0.07029134  0.47766302  0.2528864   0.6611555 ]], log_prob=[-1.40786831 -0.65806877 -0.98285483 -0.892881   -2.81623815 -0.88893054\n",
       " -1.23002522 -4.12725014 -1.70179645 -8.31187262 -1.41943122 -0.58601439\n",
       " -1.79226904 -3.61694995 -1.52281303 -1.27956108 -1.7733784  -0.1704126\n",
       " -3.03771816 -3.07419582 -2.29240375 -1.08289121 -1.27365794 -2.611551\n",
       " -0.84681816 -2.0971411  -1.58297329 -1.75502227 -1.82736822 -1.82981466\n",
       " -2.76530796 -3.07142109 -1.30798753 -1.19203485 -0.08967483 -0.73169381\n",
       " -1.25193438 -3.22966238 -0.89990751 -4.7894971  -1.01248402 -0.58635012\n",
       " -7.69423529 -0.55602234 -0.2943909  -1.95744077 -1.2116624  -3.49645579\n",
       " -1.27188233 -5.5923811  -0.33656571 -2.93583687 -0.42139814 -1.66063244\n",
       " -1.18257447 -1.00242161 -0.82840819 -0.55628348 -1.80082123 -1.07059203\n",
       " -1.43256747 -6.14570056 -1.21701988 -4.11683793 -1.75801341 -1.36350826\n",
       " -2.53350677 -0.86190318 -2.04594287 -4.44946038 -3.08826839 -1.62793715\n",
       " -1.13991709 -0.8922266  -1.18266611 -1.82497261 -1.28922154 -2.03958076\n",
       " -2.72282187 -1.49457843 -1.45730652 -3.14564256 -2.9996943  -0.87441758\n",
       " -0.64985607 -0.47400879 -1.16356688 -0.36844401 -0.49635016 -4.19654171\n",
       " -0.91612098 -2.96744474 -2.61477976 -0.57317371 -2.54279046 -2.98391571\n",
       " -3.16403729 -4.96836404 -2.16098307 -0.26381956], blobs=None, random_state=('MT19937', array([2607944710,  685931776,  368760559,  447907570, 3628346637,\n",
       "        599052558, 2492965690, 2996821488, 1060034983, 3886799220,\n",
       "       1116480996,  428737231, 2050458554,  280662280, 2605527300,\n",
       "       1490642019, 1712674684, 2898207997, 2588236235, 3531086537,\n",
       "       3619540483,   74055290, 1610470116, 1861421009, 1196115764,\n",
       "       1649529323, 3107607277, 3182192440, 2868601436, 2110279682,\n",
       "       2800500482,  104275092, 2162280666, 2800770434, 2900943775,\n",
       "        692028580, 3422385211, 3516922496, 3517037000, 3344432299,\n",
       "       2712885907, 2928746505, 3538461799,  853435745,  582742632,\n",
       "        131770710, 1476347844,   32927929,   41012165, 4214445511,\n",
       "       1907903440,  767971418, 1420734542, 2009973116,  978839232,\n",
       "       1906267183, 2815987920, 1016819430, 1033910234, 2702219948,\n",
       "       1045478564, 3715004143,  459229552, 2682615470, 2439604591,\n",
       "       2695488925, 4107337577, 2974901260, 1723633481,   81369479,\n",
       "       1299468438, 3349304255, 1207336810, 4268151003,  542406382,\n",
       "       3897012741,  276860324, 1424156174, 4054947840,  434106168,\n",
       "       3746696751,  203761450, 3082674928, 2230805192,  153584340,\n",
       "       3126755113,  421672159, 2121997891, 3022688934, 2907216367,\n",
       "       3846541422, 2173321520,  279831629,  246743147, 1990166713,\n",
       "        787810260, 3108617354, 3232744486,  540996328, 2395967090,\n",
       "        412247400, 1978784100,  122677886, 3774735566, 2270671791,\n",
       "       1086034133, 2199010568, 1830857791,  831445464, 1049868766,\n",
       "       3131632252,  781578040, 1102789230, 3917169772, 4240118034,\n",
       "        680421054, 1300473359, 3993290284,   13466058, 1758692016,\n",
       "       2523643994,  264425579, 3255546896, 2446712065, 4156964490,\n",
       "       2191973293, 2575944866, 1551286078, 3051303244, 4133573412,\n",
       "       4081854497, 3257061861, 1645547669, 1296000978, 1815571895,\n",
       "       2079398801, 3239609749,  119833791, 1151454079, 1730513514,\n",
       "       3592734929, 3169439532, 3971197504, 2594884379, 3294172787,\n",
       "       2382830894, 1462421552, 2036042227,  687294014, 2480900770,\n",
       "       2286497105, 2651210986, 3125585007, 2022153251, 1154323765,\n",
       "       3397795743,  124055228, 1321137143, 3788202191,   29957165,\n",
       "        379572497, 3473528808, 1683560774, 2955224871, 3393096474,\n",
       "        182755608, 3668602331, 3012879489, 3694867048, 3852302323,\n",
       "       3398064780, 2365590565, 3948931839, 2072483388, 2505739480,\n",
       "       3920165208, 2918011439,  906867686, 2841222982, 2433688681,\n",
       "        558706973, 2106565505, 3801756482,  278106013,  984807832,\n",
       "        999695890,  795245185, 1652579324, 1352684581, 2799051531,\n",
       "       1469432136, 3405173874, 2014725253,  426984682, 3478900067,\n",
       "       1777108900,  494621061,  181308719, 3529200936, 1348892452,\n",
       "       1760329467,  584306401, 4061617269, 1367568357,  244098681,\n",
       "       1773907751,  675118667, 3824906222, 3989239452,  235201315,\n",
       "       2248863735, 3268924982, 1139261042, 3791983937, 1746001470,\n",
       "       2849905826, 3974058231, 1635966643, 2178400592, 4020722910,\n",
       "       2116048247, 2917937598,  272318170,  499150705, 2834453911,\n",
       "       3833781559, 2512826226, 3020890051, 1218114613, 2705589697,\n",
       "       2489076486, 4111228086, 4139607490,   63643965, 2486906263,\n",
       "        579662520,  952032686, 1039752637, 2239911217,  671234824,\n",
       "          4442320,  569036218, 2383634663, 2385521800, 1093125144,\n",
       "       2649154882,  857788890, 2946288619, 2846802775, 4208605153,\n",
       "       2897021989, 1610046811,  641851141, 2341954093, 2092502314,\n",
       "       1033627636, 3121654836, 3386372731, 3901460085,  851263852,\n",
       "        520961906, 2132798041, 1204373558, 2280442598, 2808428827,\n",
       "       2479893846, 1029212733,  882689274,  920210961, 2323622755,\n",
       "          9448567, 3809583940, 3904347866, 1077821398, 3917634372,\n",
       "       4099115933, 3654527795, 3523714299, 4070195139,  558674925,\n",
       "       4140623602, 4105623536,  339640007, 2846393378,  906714012,\n",
       "        181630767, 3488900454,  121587895,  885229754,  368394264,\n",
       "       1497868743, 3014118555, 4191358268, 2793153147,  831891759,\n",
       "       4138600153, 2943273032, 3232418718, 2896725858, 3557069966,\n",
       "       1894322388, 3400259961, 2767918304,  951437038, 1117934953,\n",
       "       2434413570,   47284049, 1383108704, 4106300745, 1016275047,\n",
       "       4228125043, 1492977364, 2622290108, 4152933626, 1455329659,\n",
       "       2710309045,  753264079, 3899824977, 2403697709,  610693313,\n",
       "       1678642309, 1738670416, 4285556007,  974174242, 3274532400,\n",
       "       1143099984, 1049008433,  731534558,  576986469,  429631809,\n",
       "       1907315882, 3395439009, 3647861832, 3168236492,  694342916,\n",
       "       2983422755, 1121366043, 2337486372, 2196788683, 3471868744,\n",
       "       3040232425, 2409654101, 3439256667,  973552955, 2783978335,\n",
       "       2895642086, 1776677549, 1495953915, 1980647964,  852662765,\n",
       "        157724054, 1492860314,  173549114, 3712612961, 2656453640,\n",
       "       1268100360, 3440871322, 2843469917, 3099549505, 1805955279,\n",
       "       3080712743,  637081810, 3914247998,  201824537,  640825556,\n",
       "       2986164656, 2372860847, 2481865362, 1446346695, 3689695721,\n",
       "       1684822759,  693967320, 2560717290, 3218976941, 1905991856,\n",
       "       3068822220, 3097325952,  489047613, 3225159441,  357241473,\n",
       "        267162492, 2716929045, 2086571363, 2370731916, 3467484640,\n",
       "       3421542427,  951638694, 1314015864, 3576265979, 1409683499,\n",
       "       3316794048,  247227514,  536667395,  990482127,   61507788,\n",
       "       1391139734,  387653082, 3988363852, 3795637132, 3237845662,\n",
       "        497272635, 2761842571, 1079874914, 4091458554, 1479147147,\n",
       "       3820160459, 1090343986, 3745185739, 2129286211, 4285768253,\n",
       "        555038054,  460476342, 2437895184, 3763115223, 3489654276,\n",
       "       1128096925, 2710032937,   42046353, 3829510735, 2466103172,\n",
       "       3234349639, 1663577868, 1042077437, 3853034957, 4275809732,\n",
       "       3389074603,  802741158, 1027860879, 3434513152, 3245013699,\n",
       "       4238914480, 3361826476, 1225784869,  749036184, 1856581166,\n",
       "       4156323827, 3928267962,   50763636, 1825541513,  250580011,\n",
       "        540591225, 3004976389, 1019166903,  739826537, 3660496351,\n",
       "       3772964331, 3814638517, 1389270938,   13157723, 3747853357,\n",
       "       4082748359, 2893562237, 3201133909, 2970751760, 1672611004,\n",
       "       1715956002, 2197416277, 1749922433, 1698450429, 3250341780,\n",
       "       4128887561,  260611710,  856275251, 3424809380, 3737998173,\n",
       "       1450341187,  117365546, 3516051749,   92910467,  204301068,\n",
       "         34225991,  102029898, 1219052188,  650178172,  658901915,\n",
       "       1123928438, 1418112096, 1882105215,   13150420,  304217135,\n",
       "       1545919157, 2475022311, 4081740926, 2287119851,  331459727,\n",
       "       1154526565,   63269804, 4046857051, 1335482877, 3535756996,\n",
       "       3538159895,  903798089, 3771228360, 1054539229, 2018648073,\n",
       "       3672210147,  230411815, 3173872640, 1325730388, 3634660926,\n",
       "       4020092902, 3673500710,  931937628, 2352151142, 2771890985,\n",
       "       1424460722, 2994968365, 2390184265, 3239204602, 2980553363,\n",
       "         53415243,  844357569, 2295413835, 3106522566, 3144571014,\n",
       "        688267131, 4066968862, 3389550087, 2521022302, 1882929067,\n",
       "         98572520,  593076662, 3107624279,  453812728, 3062930528,\n",
       "       2809557690,  900244622, 3911741626, 3564948141, 3395574210,\n",
       "       3114181370,  648421416,  293982262,  426931375, 3831580402,\n",
       "        523312641,  215254980, 2898335090, 2126819993, 2304010714,\n",
       "        324816030, 3926057256, 3569232576, 3803165063,  815283676,\n",
       "       1420885678, 3751578568, 3116270802, 3079136731, 3129124966,\n",
       "       1508320843, 3312331262, 4211191782, 3349577567,  605430595,\n",
       "        955314860,  358737260, 3448777907,  633636845, 3350055489,\n",
       "       1485619138,  416919381, 2731491911, 1197209760, 3691360048,\n",
       "        113970907,  342710785, 1527046265, 1007647357, 3895105359,\n",
       "       1328670769, 3216432916, 2428671014,  574997733, 2068346675,\n",
       "       3329237745, 2394387745, 3541347164,  568118587, 3604095519,\n",
       "       2457465593, 3417989958, 2945649941, 1242348834, 4016275709,\n",
       "       1028885445, 1998012253,  698833988, 2301150259, 1067779680,\n",
       "        362429180, 1068600280, 1604641564, 1738742230, 2538896197,\n",
       "       1061249529, 2083751827,  499307962, 1488362182, 2287670615,\n",
       "       1438990845, 2496650872, 4060380387,  428633206, 1707600722,\n",
       "       2122941760, 2824411395, 2323216455, 2654347137, 1412484639,\n",
       "        373595767,  302140186, 2916896399, 2060843643, 2760499357,\n",
       "       2256397949,   93338686,  853707123, 3672482121,  609085013,\n",
       "       1054017826, 3746030957, 2313913934, 1520572377], dtype=uint32), 222, 0, 0.0))"
      ]
     },
     "execution_count": 15,
     "metadata": {},
     "output_type": "execute_result"
    }
   ],
   "source": [
    "nsteps = 10000\n",
    "sampler.run_mcmc(pos, nsteps)"
   ]
  },
  {
   "cell_type": "markdown",
   "metadata": {},
   "source": [
    "Let's plot the results. Don't worry about this part, as there are some things (like flatchain) that are particular to the code we are using. We are now just using emcee as a \"black box\" to understand the underlying theory."
   ]
  },
  {
   "cell_type": "code",
   "execution_count": 16,
   "metadata": {},
   "outputs": [
    {
     "data": {
      "text/plain": [
       "Text(0.5, 1.0, 'dimension: 4')"
      ]
     },
     "execution_count": 16,
     "metadata": {},
     "output_type": "execute_result"
    },
    {
     "data": {
      "image/png": "[encoded data removed]",
      "text/plain": [
       "<Figure size 432x288 with 4 Axes>"
      ]
     },
     "metadata": {
      "needs_background": "light"
     },
     "output_type": "display_data"
    }
   ],
   "source": [
    "nbins = 50\n",
    "plt.figure()\n",
    "plt.subplot(2, 2, 1)\n",
    "plt.hist(sampler.flatchain[:, 0], bins = nbins, density = True)\n",
    "plt.title('dimension: 1')\n",
    "plt.subplot(2, 2, 2)\n",
    "plt.hist(sampler.flatchain[:, 1], bins = nbins, density = True)\n",
    "plt.title('dimension: 2')\n",
    "plt.subplot(2, 2, 3)\n",
    "plt.hist(sampler.flatchain[:, 2], bins = nbins, density = True)\n",
    "plt.title('dimension: 3')\n",
    "plt.subplot(2, 2, 4)\n",
    "plt.hist(sampler.flatchain[:, 3], bins = nbins, density = True)\n",
    "plt.title('dimension: 4')"
   ]
  },
  {
   "cell_type": "markdown",
   "metadata": {},
   "source": [
    "We can look at how many events were accepted:"
   ]
  },
  {
   "cell_type": "code",
   "execution_count": 17,
   "metadata": {},
   "outputs": [
    {
     "name": "stdout",
     "output_type": "stream",
     "text": [
      "0.59492\n"
     ]
    }
   ],
   "source": [
    "print(np.mean(sampler.acceptance_fraction))"
   ]
  },
  {
   "cell_type": "markdown",
   "metadata": {},
   "source": []
  }
 ],
 "metadata": {
  "kernelspec": {
   "display_name": "Python 3",
   "language": "python",
   "name": "python3"
  },
  "language_info": {
   "codemirror_mode": {
    "name": "ipython",
    "version": 3
   },
   "file_extension": ".py",
   "mimetype": "text/x-python",
   "name": "python",
   "nbconvert_exporter": "python",
   "pygments_lexer": "ipython3",
   "version": "3.8.3"
  }
 },
 "nbformat": 4,
 "nbformat_minor": 4
}
