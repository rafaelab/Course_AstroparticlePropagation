{
 "cells": [
  {
   "cell_type": "markdown",
   "metadata": {},
   "source": [
    "## Inversion Sampling\n"
   ]
  },
  {
   "cell_type": "code",
   "execution_count": 1,
   "metadata": {},
   "outputs": [],
   "source": [
    "import numpy as np\n",
    "import matplotlib.pyplot as plt\n",
    "import scipy.integrate"
   ]
  },
  {
   "cell_type": "markdown",
   "metadata": {},
   "source": [
    "We wish to compare several sampling methods. We will implement each of them individually as functions. \n",
    "For reproducibility, let's fix the seed of the (pseudo-)random number generator."
   ]
  },
  {
   "cell_type": "code",
   "execution_count": 2,
   "metadata": {},
   "outputs": [],
   "source": [
    "np.random.seed(42)"
   ]
  },
  {
   "cell_type": "markdown",
   "metadata": {},
   "source": [
    "We start with the simples Monte Carlo sampling method: inversion.\n",
    "The idea is to swap the variables $x \\leftrightarrow y$ and draw random values from the cumulative distribution function:\n",
    "$$F(x)=y \\Rightarrow F^{-1}(y)=x.$$\n",
    "Let's implement this as a function."
   ]
  },
  {
   "cell_type": "code",
   "execution_count": 3,
   "metadata": {},
   "outputs": [],
   "source": [
    "def inversionSampling(x, y, n):\n",
    "    \"\"\"\n",
    "    Applies the inverse sampling method to a given function.\n",
    "    Here y = f(x) is the probability distribution function to be sampled. \n",
    "    The number of sampling points is n.\n",
    "    Note that even if f is an analytical function, we should bin the data in bins of dx.\n",
    "    \"\"\"\n",
    "    # If the points in y are a PDF, we compute the CDF and then normalise it.\n",
    "    y1 = np.cumsum(y)\n",
    "    y1 /= y1[-1]\n",
    "\n",
    "    # Normally the interpolation would be y0 = (x0, x, y), but here we invert it!\n",
    "    ysample = np.random.uniform(0, 1, n)\n",
    "    xsample = np.interp(ysample, y1, x)\n",
    "    \n",
    "    # Sorting the arrays for plotting\n",
    "    idx = np.argsort(xsample)\n",
    "    xsample = xsample[idx]\n",
    "    ysample = ysample[idx]\n",
    "\n",
    "    return xsample"
   ]
  },
  {
   "cell_type": "markdown",
   "metadata": {},
   "source": [
    "Now let's try out this sampling method using a simple gaussian function. We know exactly what to expect:\n",
    "$$ f(x) = \\dfrac{1}{\\sqrt{2\\pi}} \\exp\\left( -\\dfrac{x^2}{2} \\right).$$\n",
    "Below we define this (expected) function, and the we take $n$ samples from this distribution."
   ]
  },
  {
   "cell_type": "code",
   "execution_count": 4,
   "metadata": {},
   "outputs": [],
   "source": [
    "n = 5000\n",
    "x = np.linspace(-3, 3, 10000)\n",
    "y = np.exp(-x ** 2 / 2) / np.sqrt(2 * np.pi)\n",
    "xs = inversionSampling(x, y, n)"
   ]
  },
  {
   "cell_type": "markdown",
   "metadata": {},
   "source": [
    "Now we will plot the sampled points (xs, ys) and the analytic function."
   ]
  },
  {
   "cell_type": "code",
   "execution_count": 5,
   "metadata": {},
   "outputs": [
    {
     "data": {
      "text/plain": [
       "<matplotlib.legend.Legend at 0x11276f2e0>"
      ]
     },
     "execution_count": 5,
     "metadata": {},
     "output_type": "execute_result"
    },
    {
     "data": {
      "image/png": "[encoded data removed]",
      "text/plain": [
       "<Figure size 432x288 with 1 Axes>"
      ]
     },
     "metadata": {
      "needs_background": "light"
     },
     "output_type": "display_data"
    }
   ],
   "source": [
    "# Plotting the histogram with the data.\n",
    "plt.plot(x, y, color = 'black', linestyle = 'solid', label = 'PDF') # original PDF\n",
    "# plt.plot(x, y1, color = 'lightgrey', linestyle = 'dashed', label = 'CDF') \n",
    "plt.hist(xs, bins = 100, density = True, label = 'sampled')\n",
    "plt.xlabel('$x$')\n",
    "plt.ylabel('$p(x)$')\n",
    "plt.title('inversion sampling')\n",
    "plt.axis([-3, 3, 0, .5])\n",
    "plt.legend()"
   ]
  },
  {
   "cell_type": "markdown",
   "metadata": {},
   "source": []
  },
  {
   "cell_type": "code",
   "execution_count": null,
   "metadata": {},
   "outputs": [],
   "source": []
  }
 ],
 "metadata": {
  "kernelspec": {
   "display_name": "Python 3",
   "language": "python",
   "name": "python3"
  },
  "language_info": {
   "codemirror_mode": {
    "name": "ipython",
    "version": 3
   },
   "file_extension": ".py",
   "mimetype": "text/x-python",
   "name": "python",
   "nbconvert_exporter": "python",
   "pygments_lexer": "ipython3",
   "version": "3.8.3"
  }
 },
 "nbformat": 4,
 "nbformat_minor": 4
}
