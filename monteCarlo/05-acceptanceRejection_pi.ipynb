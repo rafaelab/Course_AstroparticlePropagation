{
 "cells": [
  {
   "cell_type": "markdown",
   "metadata": {},
   "source": [
    "## Monte-Carlo estimation of Pi"
   ]
  },
  {
   "cell_type": "code",
   "execution_count": 1,
   "metadata": {},
   "outputs": [],
   "source": [
    "import numpy as np\n",
    "import matplotlib.pyplot as plt"
   ]
  },
  {
   "cell_type": "markdown",
   "metadata": {},
   "source": [
    "We assume a circle of radius r.\n",
    "The equation of a circle is\n",
    "\n",
    "$$x^2 + y^2 = r^2,$$ \n",
    "\n",
    "which can be rewritten as:\n",
    "\n",
    "$$y = \\sqrt{r^2 - x^2}$$\n",
    "\n",
    "The area of this circles is $\\pi r^2$, which is also the integral of the above expression (times 4).\n",
    "So:\n",
    "\n",
    "$$\\dfrac{\\pi r^2}{4} = \\int\\limits^r_0 \\sqrt{r^2 - x^2}.$$\n",
    "\n",
    "Then:\n",
    "\n",
    "$$\\pi = \\dfrac{4}{r^2} \\int\\limits_0^r \\sqrt{r^2 - x^2}.$$\n",
    "\n",
    "We are going to pick $n$ points for x and y."
   ]
  },
  {
   "cell_type": "code",
   "execution_count": 2,
   "metadata": {},
   "outputs": [],
   "source": [
    "r = 1. # assumption\n",
    "n = 1000000 # number of samples\n",
    "x = np.random.uniform(0, r, n) # draw random numbers in interval\n",
    "y = np.random.uniform(0, r, n) # draw random numbers in interval"
   ]
  },
  {
   "cell_type": "markdown",
   "metadata": {},
   "source": [
    "Now we need to compute the integral. For that, we take the fraction of the n points falling inside the circle defined by the equation:\n",
    "$$x^2 + y^2 <= r^2.$$\n",
    "The code snippet below is NOT the most efficient way to do this, but is more understandable. In real problems, avoid using loops in Python."
   ]
  },
  {
   "cell_type": "code",
   "execution_count": 3,
   "metadata": {},
   "outputs": [],
   "source": [
    "counter = 0. # cumulative counter (<= n)\n",
    "pi_arr = []\n",
    "for i in range(n):\n",
    "    if x[i] ** 2 + y[i] ** 2 <= 1.:\n",
    "        counter += 1\n",
    "        pi = 4 * counter / (i + 1)\n",
    "        pi_arr.append(pi)"
   ]
  },
  {
   "cell_type": "markdown",
   "metadata": {},
   "source": [
    "Let's now plot what we got."
   ]
  },
  {
   "cell_type": "code",
   "execution_count": 7,
   "metadata": {},
   "outputs": [
    {
     "data": {
      "image/png": "[encoded data removed]",
      "text/plain": [
       "<Figure size 432x288 with 1 Axes>"
      ]
     },
     "metadata": {
      "needs_background": "light"
     },
     "output_type": "display_data"
    }
   ],
   "source": [
    "m, bins, patches = plt.hist(pi_arr, 1000, density = True, alpha = 0.85)\n",
    "plt.plot(np.ones(10) * np.pi, np.logspace(-4, 1, 10), color = 'red', linestyle = '--')  # true value\n",
    "plt.xlabel('$\\\\pi$')\n",
    "plt.ylabel('probability')\n",
    "plt.title('MC estimate of $\\\\pi$')\n",
    "plt.axis([np.pi - .2, np.pi + .2, 1e-4, 10.])\n",
    "plt.yscale('log')"
   ]
  },
  {
   "cell_type": "markdown",
   "metadata": {},
   "source": [
    "From the above plot we can see that most of our random trails generate values close to the real value of $\\pi$ (attention to the log-scale in the y-axis!).\n",
    "Let's now plot the residuals"
   ]
  },
  {
   "cell_type": "code",
   "execution_count": 8,
   "metadata": {},
   "outputs": [
    {
     "data": {
      "image/png": "[encoded data removed]",
      "text/plain": [
       "<Figure size 432x288 with 1 Axes>"
      ]
     },
     "metadata": {
      "needs_background": "light"
     },
     "output_type": "display_data"
    }
   ],
   "source": [
    "plt.subplot(212)\n",
    "dPi = pi_arr - np.ones(len(pi_arr)) * np.pi\n",
    "plt.plot(np.arange(n), np.zeros(n), color = 'red', linestyle = '--')  # true value\n",
    "plt.plot(np.arange(len(pi_arr)), dPi)  \n",
    "plt.ylabel('$\\\\pi_{MC} - \\\\pi$')\n",
    "plt.xlabel('n')\n",
    "plt.axis([1, n, -.1, .1])\n",
    "plt.xscale('log')"
   ]
  },
  {
   "cell_type": "markdown",
   "metadata": {},
   "source": [
    "The plot above shows the difference between the Monte Carlo value of $\\pi$ and it's actual values as a function of the number of samples. Note the convergence: the residuals go to zero as the sample increases."
   ]
  }
 ],
 "metadata": {
  "kernelspec": {
   "display_name": "Python 3",
   "language": "python",
   "name": "python3"
  },
  "language_info": {
   "codemirror_mode": {
    "name": "ipython",
    "version": 3
   },
   "file_extension": ".py",
   "mimetype": "text/x-python",
   "name": "python",
   "nbconvert_exporter": "python",
   "pygments_lexer": "ipython3",
   "version": "3.8.3"
  }
 },
 "nbformat": 4,
 "nbformat_minor": 4
}
