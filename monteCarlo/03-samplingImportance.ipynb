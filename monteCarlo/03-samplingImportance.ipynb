{
 "cells": [
  {
   "cell_type": "markdown",
   "metadata": {},
   "source": [
    "## Importance Sampling\n"
   ]
  },
  {
   "cell_type": "code",
   "execution_count": 1,
   "metadata": {},
   "outputs": [],
   "source": [
    "import numpy as np\n",
    "import matplotlib.pyplot as plt\n",
    "import scipy.integrate"
   ]
  },
  {
   "cell_type": "markdown",
   "metadata": {},
   "source": [
    "We wish to compare several sampling methods. We will implement each of them individually as functions. \n",
    "For reproducibility, let's fix the seed of the (pseudo-)random number generator."
   ]
  },
  {
   "cell_type": "code",
   "execution_count": 2,
   "metadata": {},
   "outputs": [],
   "source": [
    "np.random.seed(42)"
   ]
  },
  {
   "cell_type": "markdown",
   "metadata": {},
   "source": [
    "Among the sampling methods we have studied so far (inversion and rejection), importance sampling is the least straightforward. The underlying idea is that some points of the function are more important than others, in this sense. Thus, we can draw samples from a proposal distribution and reweight these sampled values to give highwer weights to values that are more typical:\n",
    "\n",
    "$$f(x)dx = \\dfrac{f(x)}{w(x)}w(x) dx.$$\n",
    "\n",
    "This means that we can split a function $f(x)$ into a function that's easy to sample ($f(x)$), and adjust the weights ($w(x)$) accordingly:\n",
    "\n",
    "$$\\left\\langle \\dfrac{f(x)}{w(x)}  \\right\\rangle\n",
    "= \\dfrac{\\int\\limits_a^b \\dfrac{f(x)}{w(x)} w(x) dx}{\\int\\limits_a^b w(x) dx} = \\dfrac{\\int\\limits_a^b f(x)dx}{\\int\\limits_a^b w(x) dx} = \\dfrac{I}{\\int\\limits_a^b w(x) dx}.$$\n",
    "\n",
    "If we now rewrite only the term $I$, we obtain:\n",
    "\n",
    "$$I = \\left\\langle \\dfrac{f(x)}{w(x)}  \\right\\rangle\n",
    " \\int\\limits_a^b w(x) dx. $$\n",
    "This can now be recast into a new probability distribution function, defined as:\n",
    "\n",
    "$$p(x) = \\dfrac{w(x)}{\\int\\limits_a^b w(x) dx}.$$\n",
    "\n",
    "If we now draw a value $x_i$ from the distribution $p(x)$, we get:\n",
    "\n",
    "$$\\sum\\limits_{i=1}^n  \\dfrac{f(x_i)}{w(x_i)}  \\approx \\int\\limits^b_a n p(x) \\dfrac{f(x)}{w(x)} dx\n",
    "= \\int\\limits^b_a n \\dfrac{w(x)}{\\int\\limits_a^b w(y)dy} \\dfrac{f(x)}{w(x)} dx,$$\n",
    "\n",
    "and the weighted average can be written as:\n",
    "\n",
    "$$\\left\\langle \\dfrac{f(x)}{w(x)}  \\right\\rangle\n",
    "= \\dfrac{\\int\\limits_a^b \\dfrac{f(x)}{w(x)} w(x) dx}{\\int\\limits_a^b w(x) dx} = \\dfrac{\\int\\limits_a^b f(x)dx}{\\int\\limits_a^b w(x) dx} = \\dfrac{I}{\\int\\limits_a^b w(x) dx}.$$\n",
    "\n",
    "We can finally evaluate $I$:\n",
    "\n",
    "$$I \\approx \\dfrac{1}{n} \\sum\\limits_{i=1}^n  \\dfrac{f(x_i)}{w(x_i)}  \\int\\limits_a^b w(x)dx.$$\n",
    "\n",
    "It is important to stress that $x_i$ must be sampled from $p(x)$!\n",
    "\n",
    "\n",
    "We can now implement this algorithmically. Let's start by defining the function."
   ]
  },
  {
   "cell_type": "code",
   "execution_count": 27,
   "metadata": {},
   "outputs": [],
   "source": [
    "def importanceSampling(x, f, w, n):\n",
    "    \"\"\"\n",
    "    Applies the importance sampling method to a given function.\n",
    "    Here we split the function into f and w: int f(x)dx = int f(x) / w(x) * w(x) dx .\n",
    "    This should be passed as an argument.\n",
    "    \"\"\"\n",
    "    xmin = np.amin(x)\n",
    "    xmax = np.amax(x)\n",
    "\n",
    "    # This is the integral over w.\n",
    "    # For simplicity, we use a simple trapezoidal rule for integration.\n",
    "    norm = scipy.integrate.trapz(w, x = x)\n",
    "\n",
    "    xsample = np.random.uniform(xmin, xmax, n)\n",
    "    weights = norm * np.interp(xsample, x, f) / np.interp(xsample, x, w) \n",
    "\n",
    "    return xsample, weights"
   ]
  },
  {
   "cell_type": "markdown",
   "metadata": {},
   "source": [
    "Now let's try out this sampling method using a simple function with a discontinuity:\n",
    "\n",
    "$$ f(x) = \\dfrac{\\exp(-x^2)}{1-x}.$$\n",
    "\n",
    "From the equations we have written before, it is reasonable to assume $w(x)=1-x$ and $f(x)=\\exp(-x^2)$.\n",
    "Below we define this (expected) function, and the we take $n$ samples from this distribution."
   ]
  },
  {
   "cell_type": "code",
   "execution_count": 34,
   "metadata": {},
   "outputs": [],
   "source": [
    "n = 10000\n",
    "x = np.linspace(-3, .9999, n)\n",
    "g = np.exp(-x ** 2 / 2) / np.sqrt(2 * np.pi) / (1. - x)\n",
    "f = np.exp(-x ** 2 / 2) / np.sqrt(2 * np.pi) \n",
    "w = 1. - x\n",
    "w /= scipy.integrate.trapz(w, x)\n",
    "xs, w = importanceSampling(x, f, w, n)\n",
    "\n",
    "# let's just keep things normalised for plotting\n",
    "g /= scipy.integrate.trapz(g, x = x)"
   ]
  },
  {
   "cell_type": "markdown",
   "metadata": {},
   "source": [
    "Now we will plot the sampled points (xs, ys) and the analytic function."
   ]
  },
  {
   "cell_type": "code",
   "execution_count": 35,
   "metadata": {},
   "outputs": [
    {
     "data": {
      "text/plain": [
       "<matplotlib.legend.Legend at 0x110448be0>"
      ]
     },
     "execution_count": 35,
     "metadata": {},
     "output_type": "execute_result"
    },
    {
     "data": {
      "image/png": "[encoded data removed]",
      "text/plain": [
       "<Figure size 432x288 with 1 Axes>"
      ]
     },
     "metadata": {
      "needs_background": "light"
     },
     "output_type": "display_data"
    }
   ],
   "source": [
    "# Plotting the histogram with the data.\n",
    "plt.plot(x, g, color = 'black', linestyle = 'solid', label = 'PDF') # original PDF\n",
    "plt.plot(x, f, color = 'purple', linestyle = 'dashed', label = 'f(x)')\n",
    "plt.plot(x, 1 -x, color = 'green', linestyle = 'dashed', label = 'w(x)')\n",
    "plt.hist(xs, weights = w, bins = 100, density = True, label = 'sampled')\n",
    "plt.xlabel('$x$')\n",
    "plt.ylabel('$p(x)$')\n",
    "plt.title('importance sampling')\n",
    "plt.axis([-3, 3, 0, 1.])\n",
    "plt.legend()"
   ]
  },
  {
   "cell_type": "markdown",
   "metadata": {},
   "source": []
  },
  {
   "cell_type": "code",
   "execution_count": null,
   "metadata": {},
   "outputs": [],
   "source": []
  }
 ],
 "metadata": {
  "kernelspec": {
   "display_name": "Python 3",
   "language": "python",
   "name": "python3"
  },
  "language_info": {
   "codemirror_mode": {
    "name": "ipython",
    "version": 3
   },
   "file_extension": ".py",
   "mimetype": "text/x-python",
   "name": "python",
   "nbconvert_exporter": "python",
   "pygments_lexer": "ipython3",
   "version": "3.8.3"
  }
 },
 "nbformat": 4,
 "nbformat_minor": 4
}
